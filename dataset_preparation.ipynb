{
  "cells": [
    {
      "cell_type": "code",
      "execution_count": null,
      "metadata": {
        "colab": {
          "base_uri": "https://localhost:8080/"
        },
        "id": "cKHrOuwkEYck",
        "outputId": "dc1496db-935a-48c7-aff1-c8aaa2e48477"
      },
      "outputs": [
        {
          "name": "stdout",
          "output_type": "stream",
          "text": [
            "Collecting pyxdf\n",
            "  Downloading pyxdf-1.16.5-py2.py3-none-any.whl (15 kB)\n",
            "Requirement already satisfied: numpy in /usr/local/lib/python3.10/dist-packages (from pyxdf) (1.23.5)\n",
            "Installing collected packages: pyxdf\n",
            "Successfully installed pyxdf-1.16.5\n"
          ]
        }
      ],
      "source": [
        "!pip install pyxdf"
      ]
    },
    {
      "cell_type": "code",
      "execution_count": 1,
      "metadata": {
        "id": "-ZNhNuPk_pJo"
      },
      "outputs": [],
      "source": [
        "import os\n",
        "import pyxdf\n",
        "import pandas as pd\n",
        "import ast\n",
        "import numpy as np"
      ]
    },
    {
      "cell_type": "code",
      "execution_count": 2,
      "metadata": {},
      "outputs": [],
      "source": [
        "\n",
        "folder_path = \"./data/Data/\"  # Replace with the path to your dataset folder\n",
        "\n",
        "dataset = list()\n",
        "\n",
        "# Iterate over files in the folder\n",
        "for filename in os.listdir(folder_path):\n",
        "    if filename.endswith(\".xdf\"):  # Assuming all XDF files have the .xdf extension\n",
        "        file_path = os.path.join(folder_path, filename)\n",
        "\n",
        "        # Load XDF data for each file\n",
        "        streams, file_header = pyxdf.load_xdf(file_path)\n",
        "        dataset.append(streams)\n"
      ]
    },
    {
      "cell_type": "code",
      "execution_count": 79,
      "metadata": {},
      "outputs": [],
      "source": [
        "time_series_list = []\n",
        "target = []\n",
        "target_list = [[1,2],[1,8],[2,1],[2,5],[2,9],[3,4],[3,6],[4,3],[4,7],[5,2],[5,5],[5,8],[6,3],[6,7],[7,4],[7,6],[8,1],[8,5],[8,9],[9,2],[9,8]]\n",
        "marker_number = []\n",
        "subject_number = []\n",
        "subject_count = 0\n",
        "for data in dataset:\n",
        "    webstream = 0\n",
        "    marker = 0\n",
        "    for stream in range(len(data)):\n",
        "        if data[stream]['info']['name'][0] == \"WebcamStream\":\n",
        "           webstream = stream\n",
        "        if data[stream]['info']['name'][0] == \"DecryptMarkerStream\":\n",
        "           marker = stream\n",
        "\n",
        "    marker_count = 0\n",
        "    video_count = 0\n",
        "\n",
        "    for i in range(21):\n",
        "        start = data[marker]['time_stamps'][marker_count]\n",
        "        end = data[marker]['time_stamps'][marker_count+1]\n",
        "\n",
        "        while data[webstream]['time_stamps'][video_count] < start:\n",
        "            video_count += 1\n",
        "            continue\n",
        "\n",
        "        while data[webstream]['time_stamps'][video_count] <= end:\n",
        "            temp = list()\n",
        "            for j in data[webstream]['time_series'][video_count]:\n",
        "                temp.append(j)\n",
        "            time_series_list.append(temp)\n",
        "            target.append(target_list[i])\n",
        "            marker_number.append(i)\n",
        "            subject_number.append(subject_count)\n",
        "            video_count += 1\n",
        "\n",
        "        marker_count += 2\n",
        "    subject_count += 1"
      ]
    },
    {
      "cell_type": "code",
      "execution_count": 81,
      "metadata": {},
      "outputs": [
        {
          "data": {
            "text/html": [
              "<div>\n",
              "<style scoped>\n",
              "    .dataframe tbody tr th:only-of-type {\n",
              "        vertical-align: middle;\n",
              "    }\n",
              "\n",
              "    .dataframe tbody tr th {\n",
              "        vertical-align: top;\n",
              "    }\n",
              "\n",
              "    .dataframe thead th {\n",
              "        text-align: right;\n",
              "    }\n",
              "</style>\n",
              "<table border=\"1\" class=\"dataframe\">\n",
              "  <thead>\n",
              "    <tr style=\"text-align: right;\">\n",
              "      <th></th>\n",
              "      <th>0</th>\n",
              "      <th>1</th>\n",
              "      <th>2</th>\n",
              "      <th>3</th>\n",
              "    </tr>\n",
              "  </thead>\n",
              "  <tbody>\n",
              "    <tr>\n",
              "      <th>0</th>\n",
              "      <td>0</td>\n",
              "      <td>0</td>\n",
              "      <td>[296.75113, 297.27917, 297.03198, 294.42212, 2...</td>\n",
              "      <td>[1, 2]</td>\n",
              "    </tr>\n",
              "    <tr>\n",
              "      <th>1</th>\n",
              "      <td>0</td>\n",
              "      <td>0</td>\n",
              "      <td>[296.2985, 295.68347, 295.629, 293.5011, 296.0...</td>\n",
              "      <td>[1, 2]</td>\n",
              "    </tr>\n",
              "    <tr>\n",
              "      <th>2</th>\n",
              "      <td>0</td>\n",
              "      <td>0</td>\n",
              "      <td>[295.41623, 296.32166, 296.15216, 294.07843, 2...</td>\n",
              "      <td>[1, 2]</td>\n",
              "    </tr>\n",
              "    <tr>\n",
              "      <th>3</th>\n",
              "      <td>0</td>\n",
              "      <td>0</td>\n",
              "      <td>[296.1823, 296.2854, 296.07892, 293.95288, 296...</td>\n",
              "      <td>[1, 2]</td>\n",
              "    </tr>\n",
              "    <tr>\n",
              "      <th>4</th>\n",
              "      <td>0</td>\n",
              "      <td>0</td>\n",
              "      <td>[296.6373, 296.11606, 295.98215, 293.76398, 29...</td>\n",
              "      <td>[1, 2]</td>\n",
              "    </tr>\n",
              "  </tbody>\n",
              "</table>\n",
              "</div>"
            ],
            "text/plain": [
              "   0  1                                                  2       3\n",
              "0  0  0  [296.75113, 297.27917, 297.03198, 294.42212, 2...  [1, 2]\n",
              "1  0  0  [296.2985, 295.68347, 295.629, 293.5011, 296.0...  [1, 2]\n",
              "2  0  0  [295.41623, 296.32166, 296.15216, 294.07843, 2...  [1, 2]\n",
              "3  0  0  [296.1823, 296.2854, 296.07892, 293.95288, 296...  [1, 2]\n",
              "4  0  0  [296.6373, 296.11606, 295.98215, 293.76398, 29...  [1, 2]"
            ]
          },
          "execution_count": 81,
          "metadata": {},
          "output_type": "execute_result"
        }
      ],
      "source": [
        "df1 = pd.Series(subject_number)\n",
        "df2 = pd.Series(marker_number)\n",
        "df3 = pd.Series(time_series_list)\n",
        "df4 = pd.Series(target)\n",
        "df_list = [df1, df2, df3, df4]\n",
        "df= pd.concat(df_list, axis=1)\n",
        "df.head(5)"
      ]
    },
    {
      "cell_type": "code",
      "execution_count": 82,
      "metadata": {},
      "outputs": [
        {
          "name": "stdout",
          "output_type": "stream",
          "text": [
            "Data has been saved to trial_data.csv\n"
          ]
        }
      ],
      "source": [
        "csv_filename = 'trial_data.csv'\n",
        "\n",
        "# Writing the DataFrame to a CSV file\n",
        "df.to_csv(csv_filename, index=False)\n",
        "\n",
        "print(f'Data has been saved to {csv_filename}')"
      ]
    },
    {
      "cell_type": "code",
      "execution_count": 11,
      "metadata": {},
      "outputs": [
        {
          "name": "stdout",
          "output_type": "stream",
          "text": [
            "Stream name: DecryptMarkerStream\n",
            "Stream type: Markers\n",
            "Stream name: Mindwave\n",
            "Stream type: Gaze\n",
            "Stream name: WebcamStream\n",
            "Stream type: video\n",
            "File header: {'info': defaultdict(<class 'list'>, {'version': ['1.0'], 'datetime': ['2023-08-23T10:45:18+0530']})}\n",
            "(50,)\n",
            "(56610,)\n",
            "(1866,)\n",
            "{'info': defaultdict(<class 'list'>, {'name': ['DecryptMarkerStream'], 'type': ['Markers'], 'channel_count': ['1'], 'channel_format': ['string'], 'source_id': ['myuidw43536'], 'nominal_srate': ['0.000000000000000'], 'version': ['1.100000000000000'], 'created_at': ['311480.7688952000'], 'uid': ['d4a92775-2ede-4316-9a2f-d88262dc0e56'], 'session_id': ['default'], 'hostname': ['DESKTOP-VOI6AV7'], 'v4address': [None], 'v4data_port': ['16573'], 'v4service_port': ['16573'], 'v6address': [None], 'v6data_port': ['16573'], 'v6service_port': ['16573'], 'desc': [None], 'stream_id': 3, 'effective_srate': 0}), 'footer': {'info': defaultdict(<class 'list'>, {'first_timestamp': ['311541.9588719'], 'last_timestamp': ['311604.4701615'], 'sample_count': ['49'], 'clock_offsets': [defaultdict(<class 'list'>, {'offset': [defaultdict(<class 'list'>, {'time': ['311508.96180635'], 'value': ['6.250018486753106e-06']}), defaultdict(<class 'list'>, {'time': ['311513.96205815'], 'value': ['1.550011802464724e-06']}), defaultdict(<class 'list'>, {'time': ['311518.9706365'], 'value': ['-5.420003435574472e-05']}), defaultdict(<class 'list'>, {'time': ['311523.9817886'], 'value': ['3.920000744983554e-05']}), defaultdict(<class 'list'>, {'time': ['311528.98500795'], 'value': ['-2.285002847202122e-05']}), defaultdict(<class 'list'>, {'time': ['311533.9881875'], 'value': ['2.699991455301642e-06']}), defaultdict(<class 'list'>, {'time': ['311539.00211265'], 'value': ['2.950022462755442e-06']}), defaultdict(<class 'list'>, {'time': ['311544.01046815'], 'value': ['4.500034265220165e-07']}), defaultdict(<class 'list'>, {'time': ['311549.02343075'], 'value': ['4.250003257766366e-06']}), defaultdict(<class 'list'>, {'time': ['311554.0369459999'], 'value': ['3.200024366378784e-06']}), defaultdict(<class 'list'>, {'time': ['311559.0445059'], 'value': ['-1.600000541657209e-05']}), defaultdict(<class 'list'>, {'time': ['311564.05716975'], 'value': ['3.500026650726795e-07']}), defaultdict(<class 'list'>, {'time': ['311569.06881355'], 'value': ['7.850001566112041e-06']}), defaultdict(<class 'list'>, {'time': ['311574.0782901'], 'value': ['-7.00005330145359e-07']}), defaultdict(<class 'list'>, {'time': ['311579.08389125'], 'value': ['-4.550005542114377e-06']}), defaultdict(<class 'list'>, {'time': ['311584.09063965'], 'value': ['6.499758455902338e-07']}), defaultdict(<class 'list'>, {'time': ['311589.09759875'], 'value': ['-1.144999987445772e-05']}), defaultdict(<class 'list'>, {'time': ['311594.108049'], 'value': ['1.050002174451947e-05']}), defaultdict(<class 'list'>, {'time': ['311599.1116232'], 'value': ['1.00000761449337e-06']}), defaultdict(<class 'list'>, {'time': ['311604.1265607'], 'value': ['4.00003045797348e-07']}), defaultdict(<class 'list'>, {'time': ['311609.13759515'], 'value': ['6.849993951618671e-06']}), defaultdict(<class 'list'>, {'time': ['311614.14105455'], 'value': ['6.849993951618671e-06']})]})]})}, 'time_series': [['CalStartp1'], ['CalEnd'], ['CalStartp2'], ['CalEnd'], ['CalStartp3'], ['CalEnd'], ['CalStartp4'], ['CalEnd'], ['CalStartp5'], ['CalEnd'], ['CalStartp6'], ['CalEnd'], ['CalStartp7'], ['CalEnd'], ['CalStartp8'], ['CalEnd'], ['CalStartp9'], ['CalEnd'], ['CalStartp10'], ['CalEnd'], ['CalStartp11'], ['CalEnd'], ['CalStartp12'], ['CalEnd'], ['CalStartp13'], ['CalEnd'], ['CalStartp14'], ['CalEnd'], ['CalStartp15'], ['CalEnd'], ['CalStartp16'], ['CalEnd'], ['CalStartp17'], ['CalEnd'], ['CalStartp18'], ['CalEnd'], ['CalStartp19'], ['CalEnd'], ['CalStartp20'], ['CalEnd'], ['CalStartp21'], ['CalEnd'], ['Static Control Start'], ['Static control end'], ['ImageBeg-Stimuli1_ JTINeuroStudy'], ['ImageEnd-Stimuli1_ JTINeuroStudy'], ['Static Control Start'], ['Static control end'], ['ImageBeg-Stimuli2_ JTINeuroStudy'], ['ImageEnd-Stimuli2_ JTINeuroStudy']], 'time_stamps': array([311541.95886969, 311543.46484891, 311543.46516971, 311544.98501403,\n",
            "       311544.98530443, 311546.48534775, 311546.48561945, 311547.95792116,\n",
            "       311547.95820216, 311549.46149358, 311549.46177978, 311550.9852949 ,\n",
            "       311550.9856168 , 311552.50018572, 311552.50046112, 311553.95849643,\n",
            "       311553.95875263, 311555.48109495, 311555.48142225, 311556.99855677,\n",
            "       311556.99883917, 311558.52069889, 311558.52099119, 311559.9604103 ,\n",
            "       311559.9606859 , 311561.47773882, 311561.47805072, 311562.99635514,\n",
            "       311562.99664114, 311564.45265656, 311564.45295736, 311565.97631128,\n",
            "       311565.97660578, 311567.4962601 , 311567.4965695 , 311568.95499401,\n",
            "       311568.95529941, 311570.45491983, 311570.45520553, 311571.97521545,\n",
            "       311571.97552695, 311573.49351107, 311573.49764077, 311573.9601532 ,\n",
            "       311573.9694799 , 311588.95605578, 311588.96359038, 311589.47711732,\n",
            "       311589.48694242, 311604.4701642 ])}\n",
            "56610\n"
          ]
        }
      ],
      "source": [
        "#Analyzing a single xdf file\n",
        "xdf_file_path = \"/DATAHDD/chailex/thesis/eyeTracking/new_data_training/data/Data/sub-P001_ses-S001_task-Default_run-001_eeg_103120.xdf\"\n",
        "\n",
        "streams, file_header = pyxdf.load_xdf(xdf_file_path)\n",
        "\n",
        "for stream in streams:\n",
        "    print(\"Stream name:\", stream['info']['name'][0])\n",
        "    print(\"Stream type:\", stream['info']['type'][0])\n",
        "\n",
        "    time_series, time_stamps = stream['time_series'], stream['time_stamps']\n",
        "\n",
        "# Optionally, you can also inspect the file header\n",
        "print(\"File header:\", file_header)\n",
        "\n",
        "print(streams[0]['time_stamps'].shape)\n",
        "print(streams[1]['time_stamps'].shape)\n",
        "print(streams[2]['time_stamps'].shape)\n",
        "print(streams[0])\n",
        "print(len(streams[1]['time_series']))"
      ]
    },
    {
      "cell_type": "code",
      "execution_count": 37,
      "metadata": {
        "id": "IwBdUEtpWRDN"
      },
      "outputs": [
        {
          "name": "stdout",
          "output_type": "stream",
          "text": [
            "Data has been saved to ./participants_57/unknown_data0_0.csv\n",
            "Data has been saved to ./participants_57/unknown_data0_1.csv\n",
            "Data has been saved to ./participants_57/unknown_data1_0.csv\n",
            "Data has been saved to ./participants_57/unknown_data1_1.csv\n",
            "Data has been saved to ./participants_57/unknown_data2_0.csv\n",
            "Data has been saved to ./participants_57/unknown_data2_1.csv\n",
            "Data has been saved to ./participants_57/unknown_data3_0.csv\n",
            "Data has been saved to ./participants_57/unknown_data3_1.csv\n",
            "Data has been saved to ./participants_57/unknown_data4_0.csv\n",
            "Data has been saved to ./participants_57/unknown_data4_1.csv\n",
            "Data has been saved to ./participants_57/unknown_data5_0.csv\n",
            "Data has been saved to ./participants_57/unknown_data5_1.csv\n",
            "Data has been saved to ./participants_57/unknown_data6_0.csv\n",
            "Data has been saved to ./participants_57/unknown_data6_1.csv\n",
            "Data has been saved to ./participants_57/unknown_data7_0.csv\n",
            "Data has been saved to ./participants_57/unknown_data7_1.csv\n",
            "Data has been saved to ./participants_57/unknown_data8_0.csv\n",
            "Data has been saved to ./participants_57/unknown_data8_1.csv\n",
            "Data has been saved to ./participants_57/unknown_data9_0.csv\n",
            "Data has been saved to ./participants_57/unknown_data9_1.csv\n",
            "Data has been saved to ./participants_57/unknown_data10_0.csv\n",
            "Data has been saved to ./participants_57/unknown_data10_1.csv\n",
            "Data has been saved to ./participants_57/unknown_data11_0.csv\n",
            "Data has been saved to ./participants_57/unknown_data11_1.csv\n",
            "Data has been saved to ./participants_57/unknown_data12_0.csv\n",
            "Data has been saved to ./participants_57/unknown_data12_1.csv\n",
            "Data has been saved to ./participants_57/unknown_data13_0.csv\n",
            "Data has been saved to ./participants_57/unknown_data13_1.csv\n",
            "Data has been saved to ./participants_57/unknown_data14_0.csv\n",
            "Data has been saved to ./participants_57/unknown_data14_1.csv\n",
            "Data has been saved to ./participants_57/unknown_data15_0.csv\n",
            "Data has been saved to ./participants_57/unknown_data15_1.csv\n",
            "Data has been saved to ./participants_57/unknown_data16_0.csv\n",
            "Data has been saved to ./participants_57/unknown_data16_1.csv\n",
            "Data has been saved to ./participants_57/unknown_data17_0.csv\n",
            "Data has been saved to ./participants_57/unknown_data17_1.csv\n",
            "Data has been saved to ./participants_57/unknown_data18_0.csv\n",
            "Data has been saved to ./participants_57/unknown_data18_1.csv\n",
            "Data has been saved to ./participants_57/unknown_data19_0.csv\n",
            "Data has been saved to ./participants_57/unknown_data19_1.csv\n",
            "Data has been saved to ./participants_57/unknown_data20_0.csv\n",
            "Data has been saved to ./participants_57/unknown_data20_1.csv\n",
            "Data has been saved to ./participants_57/unknown_data21_0.csv\n",
            "Data has been saved to ./participants_57/unknown_data21_1.csv\n",
            "Data has been saved to ./participants_57/unknown_data22_0.csv\n",
            "Data has been saved to ./participants_57/unknown_data22_1.csv\n",
            "Data has been saved to ./participants_57/unknown_data23_0.csv\n",
            "Data has been saved to ./participants_57/unknown_data23_1.csv\n",
            "Data has been saved to ./participants_57/unknown_data24_0.csv\n",
            "Data has been saved to ./participants_57/unknown_data24_1.csv\n",
            "Data has been saved to ./participants_57/unknown_data25_0.csv\n",
            "Data has been saved to ./participants_57/unknown_data25_1.csv\n",
            "Data has been saved to ./participants_57/unknown_data26_0.csv\n",
            "Data has been saved to ./participants_57/unknown_data26_1.csv\n",
            "Data has been saved to ./participants_57/unknown_data27_0.csv\n",
            "Data has been saved to ./participants_57/unknown_data27_1.csv\n",
            "Data has been saved to ./participants_57/unknown_data28_0.csv\n",
            "Data has been saved to ./participants_57/unknown_data28_1.csv\n",
            "Data has been saved to ./participants_57/unknown_data29_0.csv\n",
            "Data has been saved to ./participants_57/unknown_data29_1.csv\n",
            "Data has been saved to ./participants_57/unknown_data30_0.csv\n",
            "Data has been saved to ./participants_57/unknown_data30_1.csv\n",
            "Data has been saved to ./participants_57/unknown_data31_0.csv\n",
            "Data has been saved to ./participants_57/unknown_data31_1.csv\n",
            "Data has been saved to ./participants_57/unknown_data32_0.csv\n",
            "Data has been saved to ./participants_57/unknown_data32_1.csv\n",
            "Data has been saved to ./participants_57/unknown_data33_0.csv\n",
            "Data has been saved to ./participants_57/unknown_data33_1.csv\n",
            "Data has been saved to ./participants_57/unknown_data34_0.csv\n",
            "Data has been saved to ./participants_57/unknown_data34_1.csv\n",
            "Data has been saved to ./participants_57/unknown_data35_0.csv\n",
            "Data has been saved to ./participants_57/unknown_data35_1.csv\n",
            "Data has been saved to ./participants_57/unknown_data36_0.csv\n",
            "Data has been saved to ./participants_57/unknown_data36_1.csv\n",
            "Data has been saved to ./participants_57/unknown_data37_0.csv\n",
            "Data has been saved to ./participants_57/unknown_data37_1.csv\n",
            "Data has been saved to ./participants_57/unknown_data38_0.csv\n",
            "Data has been saved to ./participants_57/unknown_data38_1.csv\n",
            "Data has been saved to ./participants_57/unknown_data39_0.csv\n",
            "Data has been saved to ./participants_57/unknown_data39_1.csv\n",
            "Data has been saved to ./participants_57/unknown_data40_0.csv\n",
            "Data has been saved to ./participants_57/unknown_data40_1.csv\n",
            "Data has been saved to ./participants_57/unknown_data41_0.csv\n",
            "Data has been saved to ./participants_57/unknown_data41_1.csv\n",
            "Data has been saved to ./participants_57/unknown_data42_0.csv\n",
            "Data has been saved to ./participants_57/unknown_data42_1.csv\n",
            "Data has been saved to ./participants_57/unknown_data43_0.csv\n",
            "Data has been saved to ./participants_57/unknown_data43_1.csv\n",
            "Data has been saved to ./participants_57/unknown_data44_0.csv\n",
            "Data has been saved to ./participants_57/unknown_data44_1.csv\n",
            "Data has been saved to ./participants_57/unknown_data45_0.csv\n",
            "Data has been saved to ./participants_57/unknown_data45_1.csv\n",
            "Data has been saved to ./participants_57/unknown_data46_0.csv\n",
            "Data has been saved to ./participants_57/unknown_data46_1.csv\n",
            "Data has been saved to ./participants_57/unknown_data47_0.csv\n",
            "Data has been saved to ./participants_57/unknown_data47_1.csv\n",
            "Data has been saved to ./participants_57/unknown_data48_0.csv\n",
            "Data has been saved to ./participants_57/unknown_data48_1.csv\n",
            "Data has been saved to ./participants_57/unknown_data49_0.csv\n",
            "Data has been saved to ./participants_57/unknown_data49_1.csv\n",
            "Data has been saved to ./participants_57/unknown_data50_0.csv\n",
            "Data has been saved to ./participants_57/unknown_data50_1.csv\n",
            "Data has been saved to ./participants_57/unknown_data51_0.csv\n",
            "Data has been saved to ./participants_57/unknown_data51_1.csv\n",
            "Data has been saved to ./participants_57/unknown_data52_0.csv\n",
            "Data has been saved to ./participants_57/unknown_data52_1.csv\n",
            "Data has been saved to ./participants_57/unknown_data53_0.csv\n",
            "Data has been saved to ./participants_57/unknown_data53_1.csv\n",
            "Data has been saved to ./participants_57/unknown_data54_0.csv\n",
            "Data has been saved to ./participants_57/unknown_data54_1.csv\n",
            "Data has been saved to ./participants_57/unknown_data55_0.csv\n",
            "Data has been saved to ./participants_57/unknown_data55_1.csv\n",
            "Data has been saved to ./participants_57/unknown_data56_0.csv\n",
            "Data has been saved to ./participants_57/unknown_data56_1.csv\n"
          ]
        }
      ],
      "source": [
        "#This code is to save participant wise data separately. In total we have 57 participants therefore we will get 57 csv files from this block of code. \n",
        "time_series_list_notarget = []\n",
        "\n",
        "marker_number = []\n",
        "subject_number = []\n",
        "subject_count = 0\n",
        "\n",
        "for data in dataset:\n",
        "    webstream = 0\n",
        "    marker = 0\n",
        "    for stream in range(len(data)):\n",
        "        if data[stream]['info']['name'][0] == \"WebcamStream\":\n",
        "           webstream = stream\n",
        "        if data[stream]['info']['name'][0] == \"DecryptMarkerStream\":\n",
        "           marker = stream\n",
        "\n",
        "    marker_count = 44\n",
        "    video_count = 0\n",
        "    escape_count = 0\n",
        "    subject_time_series_notarget = []\n",
        "    image_number = 0\n",
        "    for i in range(3):\n",
        "        if escape_count == 2:\n",
        "            escape_count += 2\n",
        "            marker_count += 2\n",
        "            continue\n",
        "        escape_count += 2\n",
        "        temp_list = []\n",
        "        start = data[marker]['time_stamps'][marker_count]\n",
        "        end = data[marker]['time_stamps'][marker_count+1]\n",
        "\n",
        "        while data[webstream]['time_stamps'][video_count] < start:\n",
        "            video_count += 1\n",
        "            continue\n",
        "        \n",
        "        while video_count < len(data[webstream]['time_stamps']) and data[webstream]['time_stamps'][video_count] <= end:\n",
        "            temp_list.append(data[webstream]['time_series'][video_count])\n",
        "            video_count += 1\n",
        "        ############################################################\n",
        "        predict_list = []\n",
        "\n",
        "        for time_series in temp_list:\n",
        "            dd = pd.Series(time_series)\n",
        "            temp = []\n",
        "            for i in dd:\n",
        "                temp.append(i)\n",
        "            predict_list.append(temp)\n",
        "        \n",
        "        csv_filename = './participants_57/unknown_data{}_{}.csv'.format(subject_count, image_number)\n",
        "        image_number += 1 \n",
        "\n",
        "        df_unknown = pd.Series(predict_list)\n",
        "        df_unknown.to_csv(csv_filename, index=False)\n",
        "\n",
        "        print(f'Data has been saved to {csv_filename}')\n",
        "        #############################################################\n",
        "\n",
        "\n",
        "        subject_time_series_notarget.append(temp_list)\n",
        "        marker_count += 2\n",
        "    time_series_list_notarget.append(subject_time_series_notarget)\n",
        "    subject_count += 1"
      ]
    },
    {
      "cell_type": "code",
      "execution_count": null,
      "metadata": {
        "id": "E0ifjeF4aOqb"
      },
      "outputs": [],
      "source": []
    },
    {
      "cell_type": "code",
      "execution_count": null,
      "metadata": {
        "colab": {
          "base_uri": "https://localhost:8080/"
        },
        "id": "eV3-gYphaOtg",
        "outputId": "92273040-6ee6-4802-b07e-dd6e8c648616"
      },
      "outputs": [],
      "source": []
    },
    {
      "cell_type": "code",
      "execution_count": null,
      "metadata": {
        "id": "WfnfWrrqaOv3"
      },
      "outputs": [],
      "source": []
    },
    {
      "cell_type": "code",
      "execution_count": null,
      "metadata": {
        "id": "HZgO0kmXaOyB"
      },
      "outputs": [],
      "source": []
    },
    {
      "cell_type": "code",
      "execution_count": null,
      "metadata": {
        "id": "eYg1_ya_aO18"
      },
      "outputs": [],
      "source": []
    }
  ],
  "metadata": {
    "colab": {
      "provenance": []
    },
    "kernelspec": {
      "display_name": "Python 3",
      "name": "python3"
    },
    "language_info": {
      "codemirror_mode": {
        "name": "ipython",
        "version": 3
      },
      "file_extension": ".py",
      "mimetype": "text/x-python",
      "name": "python",
      "nbconvert_exporter": "python",
      "pygments_lexer": "ipython3",
      "version": "3.9.16"
    }
  },
  "nbformat": 4,
  "nbformat_minor": 0
}
